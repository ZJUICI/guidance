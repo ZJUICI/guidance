{
 "cells": [
  {
   "cell_type": "code",
   "execution_count": 1,
   "metadata": {},
   "outputs": [
    {
     "name": "stdout",
     "output_type": "stream",
     "text": [
      "env: LOG_LEVEL=DEBUG\n"
     ]
    }
   ],
   "source": [
    "%env LOG_LEVEL=DEBUG"
   ]
  },
  {
   "cell_type": "code",
   "execution_count": 2,
   "metadata": {},
   "outputs": [
    {
     "name": "stdout",
     "output_type": "stream",
     "text": [
      "start to install package: redis\n",
      "successfully installed package: redis\n",
      "start to install package: redis-om\n",
      "successfully installed package: redis-om\n"
     ]
    },
    {
     "name": "stderr",
     "output_type": "stream",
     "text": [
      "/home/zt/workspace/guidance-tgi/.venv/lib/python3.10/site-packages/pydantic/_internal/_fields.py:128: UserWarning: Field \"model_id\" has conflict with protected namespace \"model_\".\n",
      "\n",
      "You may be able to resolve this warning by setting `model_config['protected_namespaces'] = ()`.\n",
      "  warnings.warn(\n",
      "/home/zt/workspace/guidance-tgi/.venv/lib/python3.10/site-packages/tqdm/auto.py:21: TqdmWarning: IProgress not found. Please update jupyter and ipywidgets. See https://ipywidgets.readthedocs.io/en/stable/user_install.html\n",
      "  from .autonotebook import tqdm as notebook_tqdm\n"
     ]
    }
   ],
   "source": [
    "import guidance\n",
    "\n",
    "from format_template import format_output"
   ]
  },
  {
   "cell_type": "code",
   "execution_count": 3,
   "metadata": {},
   "outputs": [],
   "source": [
    "\n",
    "template = format_output()\n",
    "input_template = \"{{description}}\" + template"
   ]
  },
  {
   "cell_type": "code",
   "execution_count": 4,
   "metadata": {},
   "outputs": [],
   "source": [
    "\n",
    "guidance.llms.default_system_prompt = str(\n",
    "    '数据库的信息如下所示:\\n{\"db_name\": \"course_teach\", \"db_info\": {\"course\": {\"categorical_info\": {\"Staring_Date\": [\"10 May\", \"11 May\", \"13 May\", \"14 May\", \"15 May\"], \"Course\": [\"Bible\", \"French\", \"Geography\", \"Health\", \"History\"]}, \"numeric_info\": {\"Course_ID\": [1, 5, 10]}, \"date_cols_info\": {}}, \"teacher\": {\"categorical_info\": {\"Name\": [\"Anne Walker\", \"Gustaaf Deloor\", \"John Deloor\", \"Joseph Huts\", \"Kearsley Brown\"], \"Age\": [\"26\", \"29\", \"32\", \"33\", \"39\"], \"Hometown\": [\"Blackrod Urban District\", \"Bolton County Borough\", \"Farnworth Municipal Borough\", \"Horwich Urban District\", \"Kearsley Urban District\"]}, \"numeric_info\": {\"Teacher_ID\": [1, 4, 7]}, \"date_cols_info\": {}}, \"course_arrange\": {\"categorical_info\": {}, \"numeric_info\": {\"Course_ID\": [2, 3, 10], \"Teacher_ID\": [2, 5, 7], \"Grade\": [1, 3, 7]}, \"date_cols_info\": {}}}, \"foreign_keys\": [[[\"course_arrange\", \"Teacher_ID\"], [\"teacher\", \"Teacher_ID\"]], [[\"course_arrange\", \"Course_ID\"], [\"course\", \"Course_ID\"]]]}\\n\"db_info\"中的key为表名; \"numeric_info\"表示连续列的信息; \"categorical_info\"表示离散列的信息,\"date_cols_info\"表示时间列的信息. \"foreign_keys\"表示数据库多表之间的连接关系. 根据数据库信息以及用户的输入生成符合json格式输出的指令.\\n\\n'\n",
    ")"
   ]
  },
  {
   "cell_type": "code",
   "execution_count": 5,
   "metadata": {},
   "outputs": [],
   "source": [
    "from guidance.llms import TGIModel"
   ]
  },
  {
   "cell_type": "code",
   "execution_count": 6,
   "metadata": {},
   "outputs": [],
   "source": [
    "model_path = \"/home/zt/workspace/guidance/models/ckpt_100\"\n",
    "from transformers import AutoTokenizer,AutoConfig\n",
    "tokenizer = AutoTokenizer.from_pretrained(model_path)"
   ]
  },
  {
   "cell_type": "code",
   "execution_count": 7,
   "metadata": {},
   "outputs": [],
   "source": [
    "model = TGIModel(config=AutoConfig.from_pretrained(model_path))\n",
    "\n",
    "guidance.llm = guidance.llms.Transformers(model=model, tokenizer=tokenizer,tgi=True)"
   ]
  },
  {
   "cell_type": "code",
   "execution_count": 8,
   "metadata": {},
   "outputs": [],
   "source": [
    "\n",
    "character_maker = guidance(input_template)"
   ]
  },
  {
   "cell_type": "code",
   "execution_count": 9,
   "metadata": {},
   "outputs": [
    {
     "name": "stderr",
     "output_type": "stream",
     "text": [
      "2023-11-08 16:29:44,687 - 140089001202112 - _transformers.py-_transformers:1084 - DEBUG: input prompt: course这张表数据共有多少行?[{\"input\": [ \n",
      " generate args :{'stop_sequences': [']', '</s>'], 'temperature': 0.01, 'top_p': 0.9, 'max_new_tokens': 500, 'do_sample': True}\n",
      "2023-11-08 16:29:44,687 - 140089001202112 - _model.py-_model:22 - DEBUG: input prompt :course这张表数据共有多少行?[{\"input\": [,kwargs:{'stop_sequences': [']', '</s>'], 'temperature': 0.01, 'top_p': 0.9, 'max_new_tokens': 500, 'do_sample': True}\n",
      "2023-11-08 16:29:45,090 - 140089001202112 - _transformers.py-_transformers:1087 - DEBUG: output text:  {\"input\": [\"df_groupby_agg_0\"]\n",
      "2023-11-08 16:29:45,092 - 140089001202112 - _transformers.py-_transformers:1084 - DEBUG: input prompt: course这张表数据共有多少行?[{\"input\": [{\"input\": [\"df_groupby_agg_0\"],\"command\": \" \n",
      " generate args :{'stop_sequences': ['\",', '</s>'], 'temperature': 0.01, 'top_p': 0.9, 'max_new_tokens': 500, 'do_sample': True}\n",
      "2023-11-08 16:29:45,092 - 140089001202112 - _model.py-_model:22 - DEBUG: input prompt :course这张表数据共有多少行?[{\"input\": [{\"input\": [\"df_groupby_agg_0\"],\"command\": \",kwargs:{'stop_sequences': ['\",', '</s>'], 'temperature': 0.01, 'top_p': 0.9, 'max_new_tokens': 500, 'do_sample': True}\n",
      "2023-11-08 16:29:45,216 - 140089001202112 - _transformers.py-_transformers:1087 - DEBUG: output text:  Shape\",\n",
      "2023-11-08 16:29:45,218 - 140089001202112 - _transformers.py-_transformers:1084 - DEBUG: input prompt: course这张表数据共有多少行?[{\"input\": [{\"input\": [\"df_groupby_agg_0\"],\"command\": \"Shape\",\"output\": [ \n",
      " generate args :{'stop_sequences': [']', '</s>'], 'temperature': 0.01, 'top_p': 0.9, 'max_new_tokens': 500, 'do_sample': True}\n",
      "2023-11-08 16:29:45,219 - 140089001202112 - _model.py-_model:22 - DEBUG: input prompt :course这张表数据共有多少行?[{\"input\": [{\"input\": [\"df_groupby_agg_0\"],\"command\": \"Shape\",\"output\": [,kwargs:{'stop_sequences': [']', '</s>'], 'temperature': 0.01, 'top_p': 0.9, 'max_new_tokens': 500, 'do_sample': True}\n",
      "2023-11-08 16:29:46,233 - 140089001202112 - _transformers.py-_transformers:1087 - DEBUG: output text:  {\"columns\": \"null\", \"index\": \"null\", \"type\": \"row\"}, {\"columns\": \"null\", \"index\": \"null\", \"type\": \"row\"}]\n",
      "2023-11-08 16:29:46,234 - 140089001202112 - _transformers.py-_transformers:1084 - DEBUG: input prompt: course这张表数据共有多少行?[{\"input\": [{\"input\": [\"df_groupby_agg_0\"],\"command\": \"Shape\",\"output\": [{\"columns\": \"null\", \"index\": \"null\", \"type\": \"row\"}, {\"columns\": \"null\", \"index\": \"null\", \"type\": \"row\"}]} \n",
      " generate args :{'stop_sequences': ['],', '</s>'], 'temperature': 0.01, 'top_p': 0.9, 'max_new_tokens': 4}\n",
      "2023-11-08 16:29:46,234 - 140089001202112 - _model.py-_model:22 - DEBUG: input prompt :course这张表数据共有多少行?[{\"input\": [{\"input\": [\"df_groupby_agg_0\"],\"command\": \"Shape\",\"output\": [{\"columns\": \"null\", \"index\": \"null\", \"type\": \"row\"}, {\"columns\": \"null\", \"index\": \"null\", \"type\": \"row\"}]},kwargs:{'stop_sequences': ['],', '</s>'], 'temperature': 0.01, 'top_p': 0.9, 'max_new_tokens': 4}\n",
      "2023-11-08 16:29:46,332 - 140089001202112 - _transformers.py-_transformers:1087 - DEBUG: output text:  ],\n"
     ]
    }
   ],
   "source": [
    "#guidance.llms.cache.clear()\n",
    "# out = character_maker(description=\"对不同的Staring_Date，将11 May值映射为各Staring_Date的平均数计算。\",silent=True,log=True, temperature=0.01)\n",
    "out = character_maker(description=\"course这张表数据共有多少行?\",silent=True,log=True, temperature=0.01)"
   ]
  },
  {
   "cell_type": "code",
   "execution_count": 10,
   "metadata": {},
   "outputs": [
    {
     "data": {
      "text/plain": [
       "'course这张表数据共有多少行?[{\"input\": [{\"input\": [\"df_groupby_agg_0\"],\"command\": \"Shape\",\"output\": [{\"columns\": \"null\", \"index\": \"null\", \"type\": \"row\"}, {\"columns\": \"null\", \"index\": \"null\", \"type\": \"row\"}]}]'"
      ]
     },
     "execution_count": 10,
     "metadata": {},
     "output_type": "execute_result"
    }
   ],
   "source": [
    "out.text"
   ]
  },
  {
   "cell_type": "markdown",
   "metadata": {},
   "source": []
  }
 ],
 "metadata": {
  "kernelspec": {
   "display_name": ".venv",
   "language": "python",
   "name": "python3"
  },
  "language_info": {
   "codemirror_mode": {
    "name": "ipython",
    "version": 3
   },
   "file_extension": ".py",
   "mimetype": "text/x-python",
   "name": "python",
   "nbconvert_exporter": "python",
   "pygments_lexer": "ipython3",
   "version": "3.10.12"
  }
 },
 "nbformat": 4,
 "nbformat_minor": 2
}
