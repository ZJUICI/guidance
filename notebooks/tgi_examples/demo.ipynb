{
 "cells": [
  {
   "cell_type": "code",
   "execution_count": 1,
   "metadata": {},
   "outputs": [
    {
     "name": "stdout",
     "output_type": "stream",
     "text": [
      "env: LOG_LEVEL=INFO\n"
     ]
    }
   ],
   "source": [
    "%env LOG_LEVEL=INFO"
   ]
  },
  {
   "cell_type": "code",
   "execution_count": 2,
   "metadata": {},
   "outputs": [],
   "source": [
    "# If you have used `python setup.py install`, skip this cell.\n",
    "# If you plan to debug from source code, first run `pip uninstall guidance``, then run this cell.\n",
    "import sys\n",
    "sys.path.insert(0,\"/home/zt/workspace/guidance-tgi\")"
   ]
  },
  {
   "cell_type": "code",
   "execution_count": 3,
   "metadata": {},
   "outputs": [
    {
     "name": "stdout",
     "output_type": "stream",
     "text": [
      "start to install package: redis\n",
      "successfully installed package: redis\n",
      "start to install package: redis-om\n",
      "successfully installed package: redis-om\n"
     ]
    },
    {
     "name": "stderr",
     "output_type": "stream",
     "text": [
      "/home/zt/workspace/guidance-tgi/.venv/lib/python3.10/site-packages/pydantic/_internal/_fields.py:128: UserWarning: Field \"model_id\" has conflict with protected namespace \"model_\".\n",
      "\n",
      "You may be able to resolve this warning by setting `model_config['protected_namespaces'] = ()`.\n",
      "  warnings.warn(\n",
      "/home/zt/workspace/guidance-tgi/.venv/lib/python3.10/site-packages/tqdm/auto.py:21: TqdmWarning: IProgress not found. Please update jupyter and ipywidgets. See https://ipywidgets.readthedocs.io/en/stable/user_install.html\n",
      "  from .autonotebook import tqdm as notebook_tqdm\n"
     ]
    }
   ],
   "source": [
    "import guidance\n",
    "\n",
    "from format_template import format_output"
   ]
  },
  {
   "cell_type": "code",
   "execution_count": 4,
   "metadata": {},
   "outputs": [],
   "source": [
    "plot_types = [\"Area\",\"Bar\",\"Line\",\"Barh\",\"Box\",\"Density\",\"Hist\",\"Pie\",\"Scatter\"]\n",
    "template = format_output()\n",
    "input_template = \"{{system}}USER: {{description}} ASSISTANT:\" + template"
   ]
  },
  {
   "cell_type": "code",
   "execution_count": 5,
   "metadata": {},
   "outputs": [],
   "source": [
    "model_path = \"/home/zt/workspace/guidance/models/ckpt_100\"\n",
    "from transformers import AutoTokenizer,AutoConfig\n",
    "tokenizer = AutoTokenizer.from_pretrained(model_path)"
   ]
  },
  {
   "cell_type": "code",
   "execution_count": 6,
   "metadata": {},
   "outputs": [],
   "source": [
    "# import importlib\n",
    "# importlib.reload(guidance)"
   ]
  },
  {
   "cell_type": "code",
   "execution_count": 7,
   "metadata": {},
   "outputs": [],
   "source": [
    "from guidance.llms import TGIModel"
   ]
  },
  {
   "cell_type": "code",
   "execution_count": 8,
   "metadata": {},
   "outputs": [],
   "source": [
    "model = TGIModel(config=AutoConfig.from_pretrained(model_path))\n",
    "\n",
    "guidance.llm = guidance.llms.Transformers(model=model, plot_type=plot_types, tokenizer=tokenizer,tgi=True)"
   ]
  },
  {
   "cell_type": "code",
   "execution_count": 9,
   "metadata": {},
   "outputs": [],
   "source": [
    "\n",
    "character_maker = guidance(input_template)"
   ]
  },
  {
   "cell_type": "code",
   "execution_count": 10,
   "metadata": {},
   "outputs": [
    {
     "name": "stdout",
     "output_type": "stream",
     "text": [
      "CPU times: user 446 ms, sys: 15.7 ms, total: 462 ms\n",
      "Wall time: 5.43 s\n"
     ]
    }
   ],
   "source": [
    "%%time\n",
    "system = \"Now that you are a data analyst. Your job is to answer questions about a database. You are given a question and context regarding one or more tables.\\nThe database information is as follows:\\nDatabase Name: Standard_parameters\\n\\nTable Name0: \\\"Standard_parameters\\\"\\nTable Data0 is as follows:\\nCREATE TABLE \\\"Standard_parameters\\\" (\\\"Region\\\" ENUM(\\\"Austria (BEV)\\\", \\\"England , Scotland , Wales\\\", \\\"Germany\\\", \\\"Ireland\\\", \\\"Slovenia ETRS89\\\"), \\\"Start datum\\\" ENUM(\\\"D48\\\", \\\"WGS84\\\"), \\\"Target datum\\\" ENUM(\\\"Bessel 1841\\\", \\\"D96\\\", \\\"DHDN\\\", \\\"Ireland 1965\\\", \\\"Krassovski 1940\\\", \\\"MGI\\\", \\\"OSGB36\\\"), \\\"c_x ( Metre )\\\" ENUM(\\\"409.545\\\", \\\"−24\\\", \\\"−446.448\\\", \\\"−482.53\\\", \\\"−577.326\\\", \\\"−582\\\", \\\"−591.28\\\"), \\\"c_y (Metre)\\\" ENUM(\\\"123\\\", \\\"125.157\\\", \\\"130.596\\\", \\\"72.164\\\", \\\"−105\\\", \\\"−81.35\\\", \\\"−90.129\\\"), \\\"c_z (Metre)\\\" ENUM(\\\"486.872\\\", \\\"94\\\", \\\"−396.39\\\", \\\"−414\\\", \\\"−463.920\\\", \\\"−542.06\\\", \\\"−564.557\\\"), \\\"s ( ppm )\\\" ENUM(\\\"17.919665\\\", \\\"20.4894\\\", \\\"−1.1\\\", \\\"−2.423\\\", \\\"−8.15\\\", \\\"−8.3\\\", \\\"−9.82\\\"), \\\"r x ( Arcsecond )\\\" ENUM(\\\"1.042\\\", \\\"1.4770\\\", \\\"5.137\\\", \\\"−0.02\\\", \\\"−0.1502\\\", \\\"−1.04\\\", \\\"−3.085957\\\"), \\\"r y ( Arcsecond )\\\" ENUM(\\\"0.214\\\", \\\"0.26\\\", \\\"1.474\\\", \\\"−0.0736\\\", \\\"−0.247\\\", \\\"−0.35\\\", \\\"−5.469110\\\"), \\\"r z ( Arcsecond )\\\" ENUM(\\\"0.13\\\", \\\"0.631\\\", \\\"11.020289\\\", \\\"3.08\\\", \\\"5.297\\\", \\\"−0.8421\\\", \\\"−1.4580\\\"));\\n\\nDatabase Connection Relationships: []\\n\\n\\n\"\n",
    "\n",
    "description = \"绘制一个直方图，其中x轴为c_x ( Metre )\"\n",
    "\n",
    "out = character_maker(system=system, description=description,silent=True,log=True, temperature=0.01)\n"
   ]
  },
  {
   "cell_type": "code",
   "execution_count": 12,
   "metadata": {},
   "outputs": [
    {
     "data": {
      "text/plain": [
       "'Now that you are a data analyst. Your job is to answer questions about a database. You are given a question and context regarding one or more tables.\\nThe database information is as follows:\\nDatabase Name: Standard_parameters\\n\\nTable Name0: \"Standard_parameters\"\\nTable Data0 is as follows:\\nCREATE TABLE \"Standard_parameters\" (\"Region\" ENUM(\"Austria (BEV)\", \"England , Scotland , Wales\", \"Germany\", \"Ireland\", \"Slovenia ETRS89\"), \"Start datum\" ENUM(\"D48\", \"WGS84\"), \"Target datum\" ENUM(\"Bessel 1841\", \"D96\", \"DHDN\", \"Ireland 1965\", \"Krassovski 1940\", \"MGI\", \"OSGB36\"), \"c_x ( Metre )\" ENUM(\"409.545\", \"−24\", \"−446.448\", \"−482.53\", \"−577.326\", \"−582\", \"−591.28\"), \"c_y (Metre)\" ENUM(\"123\", \"125.157\", \"130.596\", \"72.164\", \"−105\", \"−81.35\", \"−90.129\"), \"c_z (Metre)\" ENUM(\"486.872\", \"94\", \"−396.39\", \"−414\", \"−463.920\", \"−542.06\", \"−564.557\"), \"s ( ppm )\" ENUM(\"17.919665\", \"20.4894\", \"−1.1\", \"−2.423\", \"−8.15\", \"−8.3\", \"−9.82\"), \"r x ( Arcsecond )\" ENUM(\"1.042\", \"1.4770\", \"5.137\", \"−0.02\", \"−0.1502\", \"−1.04\", \"−3.085957\"), \"r y ( Arcsecond )\" ENUM(\"0.214\", \"0.26\", \"1.474\", \"−0.0736\", \"−0.247\", \"−0.35\", \"−5.469110\"), \"r z ( Arcsecond )\" ENUM(\"0.13\", \"0.631\", \"11.020289\", \"3.08\", \"5.297\", \"−0.8421\", \"−1.4580\"));\\n\\nDatabase Connection Relationships: []\\n\\n\\nUSER: 绘制一个直方图，其中x轴为c_x ( Metre ) ASSISTANT:[{\"input\": [\"Standard_parameters\"],\"command\": \"Hist\",\"command_args\": {\"x\": [\"c_x ( Metre )\"],\"y\": \"null\", \"transpose\": false},\"output\": []}]'"
      ]
     },
     "execution_count": 12,
     "metadata": {},
     "output_type": "execute_result"
    }
   ],
   "source": [
    "out.text"
   ]
  }
 ],
 "metadata": {
  "kernelspec": {
   "display_name": ".venv",
   "language": "python",
   "name": "python3"
  },
  "language_info": {
   "codemirror_mode": {
    "name": "ipython",
    "version": 3
   },
   "file_extension": ".py",
   "mimetype": "text/x-python",
   "name": "python",
   "nbconvert_exporter": "python",
   "pygments_lexer": "ipython3",
   "version": "3.10.12"
  }
 },
 "nbformat": 4,
 "nbformat_minor": 2
}
